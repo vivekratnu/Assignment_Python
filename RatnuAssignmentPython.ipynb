{
  "nbformat": 4,
  "nbformat_minor": 0,
  "metadata": {
    "colab": {
      "provenance": []
    },
    "kernelspec": {
      "name": "python3",
      "display_name": "Python 3"
    },
    "language_info": {
      "name": "python"
    }
  },
  "cells": [
    {
      "cell_type": "markdown",
      "source": [
        "**1. Write a python program to sum of the first n positive integers.**"
      ],
      "metadata": {
        "id": "8NGqFPhaFi-R"
      }
    },
    {
      "cell_type": "code",
      "source": [
        "n = int(input(\"Enter a number : \"))\n",
        "\n",
        "sum = (n * (n+1))/2\n",
        "\n",
        "print(f\"The first {n} positive integers sum is {sum}\")"
      ],
      "metadata": {
        "colab": {
          "base_uri": "https://localhost:8080/"
        },
        "id": "hFEh0zPUtjoH",
        "outputId": "7382275f-2d98-43bd-c83b-c901044aba35"
      },
      "execution_count": null,
      "outputs": [
        {
          "output_type": "stream",
          "name": "stdout",
          "text": [
            "Enter a number : 10\n",
            "The first 10 positive integers sum is 55.0\n"
          ]
        }
      ]
    },
    {
      "cell_type": "code",
      "source": [
        "n = int(input(\"Enter a number : \"))\n",
        "\n",
        "x = 0\n",
        "for i in range(n+1):\n",
        "  x = x + i\n",
        "print(x)\n"
      ],
      "metadata": {
        "colab": {
          "base_uri": "https://localhost:8080/"
        },
        "id": "UmXpOw4Kx1oS",
        "outputId": "63fae900-01c2-4b80-875d-2ef7d42577f5"
      },
      "execution_count": null,
      "outputs": [
        {
          "output_type": "stream",
          "name": "stdout",
          "text": [
            "Enter a number : 15\n",
            "120\n"
          ]
        }
      ]
    },
    {
      "cell_type": "markdown",
      "source": [
        "**2. Write a Python program to count occurrences of a substring in a string.**"
      ],
      "metadata": {
        "id": "wODJxXzj2G-T"
      }
    },
    {
      "cell_type": "code",
      "source": [
        "s = \"Python allows you to split your program into modules that can be reused in other Python programs\"\n",
        "s1 = \"Python\"\n",
        "s2 =  s.count(s1)\n",
        "print(f\"The substring {s1} is {s2} times in string.\")"
      ],
      "metadata": {
        "id": "_nApwHuKPiVG",
        "colab": {
          "base_uri": "https://localhost:8080/"
        },
        "outputId": "8e0b0cfe-17a9-4937-c92b-98229f5b7ebc"
      },
      "execution_count": null,
      "outputs": [
        {
          "output_type": "stream",
          "name": "stdout",
          "text": [
            "The substring Python is 2 times in string.\n"
          ]
        }
      ]
    },
    {
      "cell_type": "markdown",
      "source": [
        "\n",
        "**3. Write a Python program to count the occurrences of each word in a given sentence.**"
      ],
      "metadata": {
        "id": "0p-0VVuHO2yG"
      }
    },
    {
      "cell_type": "code",
      "source": [
        "def CountWord(s):\n",
        "  s1 = s.split()\n",
        "\n",
        "  for i in s1:\n",
        "    c = s1.count(i)\n",
        "    print(i,\"-\", c)\n",
        "\n",
        "s = \"Python allows you to split your program into Python modules that can be reused in other Python program\"\n",
        "CountWord(s)"
      ],
      "metadata": {
        "colab": {
          "base_uri": "https://localhost:8080/"
        },
        "id": "6GJTTdoJUab3",
        "outputId": "4da606fa-d121-48b9-e016-bc006897029e"
      },
      "execution_count": null,
      "outputs": [
        {
          "output_type": "stream",
          "name": "stdout",
          "text": [
            "Python - 3\n",
            "allows - 1\n",
            "you - 1\n",
            "to - 1\n",
            "split - 1\n",
            "your - 1\n",
            "program - 2\n",
            "into - 1\n",
            "Python - 3\n",
            "modules - 1\n",
            "that - 1\n",
            "can - 1\n",
            "be - 1\n",
            "reused - 1\n",
            "in - 1\n",
            "other - 1\n",
            "Python - 3\n",
            "program - 2\n"
          ]
        }
      ]
    },
    {
      "cell_type": "code",
      "source": [
        "def CountWord(s):\n",
        "  d = {}\n",
        "  s1 = s.split()\n",
        "\n",
        "  for i in s1:\n",
        "    c = s1.count(i)\n",
        "    d.setdefault(i,c)\n",
        "  print(d)\n",
        "\n",
        "s = \"Python allows you to split your program into Python modules that can be reused in other Python program\"\n",
        "CountWord(s)"
      ],
      "metadata": {
        "colab": {
          "base_uri": "https://localhost:8080/"
        },
        "id": "LSqA0dOjD2-T",
        "outputId": "a8c56979-c884-4f6b-c98b-d7d74cb08a41"
      },
      "execution_count": null,
      "outputs": [
        {
          "output_type": "stream",
          "name": "stdout",
          "text": [
            "{'Python': 3, 'allows': 1, 'you': 1, 'to': 1, 'split': 1, 'your': 1, 'program': 2, 'into': 1, 'modules': 1, 'that': 1, 'can': 1, 'be': 1, 'reused': 1, 'in': 1, 'other': 1}\n"
          ]
        }
      ]
    },
    {
      "cell_type": "markdown",
      "source": [
        "**4. Write a Python program to get a single string from two given strings, separated by a space and swap the first\n",
        "two characters of each string**"
      ],
      "metadata": {
        "id": "h-sbr3aLaifO"
      }
    },
    {
      "cell_type": "code",
      "source": [
        "s1 = input(\"Enter string 1: \")\n",
        "s2 = input(\"Enter string 2: \")\n",
        "\n",
        "s3 = s1.replace(s1[0:2], s2[0:2])\n",
        "s4 = s2.replace(s2[0:2], s1[0:2])\n",
        "\n",
        "print(s3,s4)"
      ],
      "metadata": {
        "colab": {
          "base_uri": "https://localhost:8080/"
        },
        "id": "MftNstaH9Eku",
        "outputId": "dfe5cd0a-e9b7-4384-e4fc-3e21b499425f"
      },
      "execution_count": null,
      "outputs": [
        {
          "output_type": "stream",
          "name": "stdout",
          "text": [
            "Enter string 1: ABC\n",
            "Enter string 2: XYZ\n",
            "XYC ABZ\n"
          ]
        }
      ]
    },
    {
      "cell_type": "markdown",
      "source": [
        "**5. Write a Python program to add 'ing' at the end of a given string (length should be at least 3).\n",
        "If the given string already ends with 'ing' then add 'ly' instead If the string length of the given\n",
        "string is less than 3, leave it unchanged**"
      ],
      "metadata": {
        "id": "nTV6fpX9hofN"
      }
    },
    {
      "cell_type": "code",
      "source": [
        "s = input(\"Enter a String: \")\n",
        "s1 = (s.split())\n",
        "\n",
        "for i in s1:\n",
        "  if len(i) > 3:\n",
        "     if i[-3::] == \"ing\":\n",
        "       print(i.replace(i[-3::],\"ly\"))\n",
        "     else:\n",
        "       print(i+\"ing\")\n",
        "  else:\n",
        "    print(i)"
      ],
      "metadata": {
        "colab": {
          "base_uri": "https://localhost:8080/"
        },
        "id": "rBjacy3bhn2W",
        "outputId": "8bb9ab1a-d802-4b35-87b1-b3a65de35e22"
      },
      "execution_count": null,
      "outputs": [
        {
          "output_type": "stream",
          "name": "stdout",
          "text": [
            "Enter a String: i am learning python\n",
            "i\n",
            "am\n",
            "learnly\n",
            "pythoning\n"
          ]
        }
      ]
    },
    {
      "cell_type": "markdown",
      "source": [
        "**6. Write a Python program to find the first appearance of the substring 'not' and 'poor' from a given string, if\n",
        "'not' follows the 'poor', replace the whole 'not'...'poor' substring with 'good'.\n",
        "Return the resulting string**"
      ],
      "metadata": {
        "id": "7JYZN8Xn9yAS"
      }
    },
    {
      "cell_type": "code",
      "source": [
        "s = \"Python is not that poor, Python is not that poor, Python is not that poor\"\n",
        "sn = s.find(\"not\")\n",
        "sp = s.find(\"poor\")\n",
        "\n",
        "if sp > sn:\n",
        "  s = s.replace(s[sn:sp+4], \"good\")\n",
        "  print(s)\n",
        "\n",
        "else:\n",
        "  print(s)"
      ],
      "metadata": {
        "colab": {
          "base_uri": "https://localhost:8080/"
        },
        "id": "DBVM-4xFDFTX",
        "outputId": "2ba72cec-6029-4444-8b06-429e2531bb25"
      },
      "execution_count": null,
      "outputs": [
        {
          "output_type": "stream",
          "name": "stdout",
          "text": [
            "Python is good, Python is good, Python is good\n"
          ]
        }
      ]
    },
    {
      "cell_type": "markdown",
      "source": [
        "**7. Program to find Greatest Common Divisor of two numbers.\n",
        "For example, the GCD of 20 and 28 is 4 and GCD of 98 and 56 is 14.**"
      ],
      "metadata": {
        "id": "wE2SE2fmPV3f"
      }
    },
    {
      "cell_type": "code",
      "source": [
        "a = int(input(\"Number 1: \"))\n",
        "b = int(input(\"Number 2: \"))\n",
        "l = []\n",
        "for i in range(1,100,1):\n",
        "  if a % i==0 and b % i==0:\n",
        "    l.append(i)\n",
        "\n",
        "m = (max(l))\n",
        "print(f\"The greatest common divisor of {a} and {b} is : {m}.\")"
      ],
      "metadata": {
        "id": "2F0R7PrI2Oty",
        "colab": {
          "base_uri": "https://localhost:8080/"
        },
        "outputId": "d52bf3cc-f34b-4274-ef6a-cec1e5ca6ea4"
      },
      "execution_count": null,
      "outputs": [
        {
          "output_type": "stream",
          "name": "stdout",
          "text": [
            "Number 1: 98\n",
            "Number 2: 56\n",
            "The greatest common divisor of 98 and 56 is : 14.\n"
          ]
        }
      ]
    },
    {
      "cell_type": "markdown",
      "source": [
        "**8. Write a Python program to check whether a list contains a sublist.**"
      ],
      "metadata": {
        "id": "mj_XCKwwCgxY"
      }
    },
    {
      "cell_type": "code",
      "source": [
        "def Sublist(l, sl):\n",
        "  if sl in l:\n",
        "    return f\"The sublist {sl} is in the list.\"\n",
        "  else:\n",
        "    return f\"The sublist {sl} is not in the list.\"\n",
        "\n",
        "l = [[1,2],[3,4],[53,65],[87,12],[33,34]]\n",
        "ls = [3,4]\n",
        "lss = [65,53]\n",
        "print(Sublist(l, ls))\n",
        "print(Sublist(l, lss))"
      ],
      "metadata": {
        "colab": {
          "base_uri": "https://localhost:8080/"
        },
        "id": "qPiTQIWcCs-1",
        "outputId": "e872caf5-b474-4944-9768-585c8b4bbe09"
      },
      "execution_count": 33,
      "outputs": [
        {
          "output_type": "stream",
          "name": "stdout",
          "text": [
            "The sublist [3, 4] is in the list.\n",
            "The sublist [65, 53] is not in the list.\n"
          ]
        }
      ]
    },
    {
      "cell_type": "markdown",
      "source": [
        "**9. Write a Python program to find the second smallest number in a list.**\n"
      ],
      "metadata": {
        "id": "EhaJrrnSLGiX"
      }
    },
    {
      "cell_type": "code",
      "source": [
        "l = [23,54,98,425,31,456,256,54]\n",
        "l.sort()\n",
        "m = l[1]\n",
        "print(f\"The second smallest number in a list is : {m}\")"
      ],
      "metadata": {
        "colab": {
          "base_uri": "https://localhost:8080/"
        },
        "id": "-fZBgyjvCs9W",
        "outputId": "499f52d6-9133-436d-a951-a4e505c65454"
      },
      "execution_count": null,
      "outputs": [
        {
          "output_type": "stream",
          "name": "stdout",
          "text": [
            "The second smallest number in a list is : 31\n"
          ]
        }
      ]
    },
    {
      "cell_type": "markdown",
      "source": [
        "**10. Write a Python program to get unique values from a list.**"
      ],
      "metadata": {
        "id": "nW8iixbDL2_4"
      }
    },
    {
      "cell_type": "code",
      "source": [
        "l = [12,35,48,21,12,48,86,75,35]\n",
        "u =[]\n",
        "\n",
        "for i in l:\n",
        "  if i not in u:\n",
        "    u.append(i)\n",
        "\n",
        "print(u)"
      ],
      "metadata": {
        "colab": {
          "base_uri": "https://localhost:8080/"
        },
        "id": "sPLygfnjCs4Z",
        "outputId": "3c105ae2-b315-4af0-df34-e56971d4855b"
      },
      "execution_count": null,
      "outputs": [
        {
          "output_type": "stream",
          "name": "stdout",
          "text": [
            "[12, 35, 48, 21, 86, 75]\n"
          ]
        }
      ]
    },
    {
      "cell_type": "markdown",
      "source": [
        "**11. Write a Python program to unzip a list of tuples into individual lists.**"
      ],
      "metadata": {
        "id": "lhjSgxevCgvj"
      }
    },
    {
      "cell_type": "code",
      "source": [
        "l = [(12,21,11),(45,5,54),(98,78,87)]\n",
        "for i in l:\n",
        "  print(list(i))"
      ],
      "metadata": {
        "colab": {
          "base_uri": "https://localhost:8080/"
        },
        "id": "DsUwEjg9QShd",
        "outputId": "265aaecb-840b-463a-fd39-1b080cc58b15"
      },
      "execution_count": null,
      "outputs": [
        {
          "output_type": "stream",
          "name": "stdout",
          "text": [
            "[12, 21, 11]\n",
            "[45, 5, 54]\n",
            "[98, 78, 87]\n"
          ]
        }
      ]
    },
    {
      "cell_type": "markdown",
      "source": [
        "**12. Write a Python program to convert a list of tuples into a dictionary**"
      ],
      "metadata": {
        "id": "JVuTQAzpCgrB"
      }
    },
    {
      "cell_type": "code",
      "source": [
        "l = [(45,\"Maths\"),(54,\"English\"),(65,\"Science\")]\n",
        "d  = {}\n",
        "for i,j in l:\n",
        "  d.setdefault(i,j)\n",
        "\n",
        "print(d)\n",
        "print(type(d))"
      ],
      "metadata": {
        "colab": {
          "base_uri": "https://localhost:8080/"
        },
        "id": "m-9vPjCSRDZn",
        "outputId": "813cd470-7411-4aba-c6e1-f651708f6da1"
      },
      "execution_count": null,
      "outputs": [
        {
          "output_type": "stream",
          "name": "stdout",
          "text": [
            "{45: 'Maths', 54: 'English', 65: 'Science'}\n",
            "<class 'dict'>\n"
          ]
        }
      ]
    },
    {
      "cell_type": "markdown",
      "source": [
        "**13. Write a Python program to sort a dictionary (ascending /descending) by value.**"
      ],
      "metadata": {
        "id": "m132ONzjYucY"
      }
    },
    {
      "cell_type": "code",
      "source": [
        "def sortDictValue(d, reverse = False):\n",
        "  return dict(sorted(d.items(), key = lambda x: x[1], reverse = reverse))\n",
        "\n",
        "d = {\"a\": 10, \"b\": 5 , \"p\":20 , \"d\":15 ,\"e\":25}\n",
        "print(sortDictValue(d))"
      ],
      "metadata": {
        "id": "fp4begLZY4fH",
        "colab": {
          "base_uri": "https://localhost:8080/"
        },
        "outputId": "e74f5a35-fc58-4e8c-d780-79d402902097"
      },
      "execution_count": null,
      "outputs": [
        {
          "output_type": "stream",
          "name": "stdout",
          "text": [
            "{'b': 5, 'a': 10, 'd': 15, 'p': 20, 'e': 25}\n"
          ]
        }
      ]
    },
    {
      "cell_type": "markdown",
      "source": [
        "**14. Write a Python program to find the highest 3 values in a dictionary.**"
      ],
      "metadata": {
        "id": "e6elr12EYuad"
      }
    },
    {
      "cell_type": "code",
      "source": [
        "d = {\"a\": 10, \"b\": 5 , \"p\":20 , \"d\":15 ,\"e\":25}\n",
        "a = sorted(d.values())\n",
        "\n",
        "print(f\" The highest 3 values in dictionary is {a[-3::]}\")"
      ],
      "metadata": {
        "id": "zQ-SVQ4VcEw2",
        "colab": {
          "base_uri": "https://localhost:8080/"
        },
        "outputId": "99cc4068-50ea-4732-f0eb-10ee2dadf3c4"
      },
      "execution_count": 38,
      "outputs": [
        {
          "output_type": "stream",
          "name": "stdout",
          "text": [
            " The highest 3 values in dictionary is [15, 20, 25]\n"
          ]
        }
      ]
    },
    {
      "cell_type": "markdown",
      "source": [
        "**15. Given a number n, write a python program to make and print the list of Fibonacci series up to n.\n",
        "Input : n=7\n",
        "Hint : first 7 numbers in the series\n",
        "Expected output :\n",
        "First few Fibonacci numbers are 0, 1, 1, 2, 3, 5, 8, 13**"
      ],
      "metadata": {
        "id": "agk2YwrBcTag"
      }
    },
    {
      "cell_type": "code",
      "source": [
        "n = int(input(\"Enter a number: \"))\n",
        "x = 0\n",
        "y = 1\n",
        "\n",
        "for i in range(0,n):\n",
        "    z = x + y\n",
        "    x = y\n",
        "    y = z\n",
        "    print(z)"
      ],
      "metadata": {
        "colab": {
          "base_uri": "https://localhost:8080/"
        },
        "id": "DyK-wXWHccE9",
        "outputId": "83dc4711-7722-43b7-eaba-86808d6c460e"
      },
      "execution_count": 40,
      "outputs": [
        {
          "output_type": "stream",
          "name": "stdout",
          "text": [
            "Enter a number: 7\n",
            "1\n",
            "2\n",
            "3\n",
            "5\n",
            "8\n",
            "13\n",
            "21\n"
          ]
        }
      ]
    },
    {
      "cell_type": "markdown",
      "source": [
        "**16. Counting the frequencies in a list using a dictionary in Python.\n",
        "Input : [1, 1, 1, 5, 5, 3, 1, 3, 3, 1,4, 4, 4, 2, 2, 2, 2]\n",
        "Expected output : 1 : 5 , 2 : 4 , 3 : 3 , 4 : 3 , 5 : 2**"
      ],
      "metadata": {
        "id": "Zstx0_yheKp7"
      }
    },
    {
      "cell_type": "code",
      "source": [
        "l = [1, 2, 1, 1, 5, 5, 3, 1, 3, 2, 3, 1, 4, 4, 4, 2, 2, 2, 2,56]\n",
        "d = {}\n",
        "\n",
        "for i in l:\n",
        "  d[i] = d.get(i,0) + 1\n",
        "\n",
        "print(d)"
      ],
      "metadata": {
        "colab": {
          "base_uri": "https://localhost:8080/"
        },
        "id": "v4YD6CWNWTOq",
        "outputId": "0849169c-2e8e-4328-a458-13bfee3d316a"
      },
      "execution_count": null,
      "outputs": [
        {
          "output_type": "stream",
          "name": "stdout",
          "text": [
            "{1: 5, 2: 6, 5: 2, 3: 3, 4: 3, 56: 1}\n"
          ]
        }
      ]
    },
    {
      "cell_type": "markdown",
      "source": [
        "**17. Write a python program using function to find the sum of odd series and even series\n",
        "Odd series: 12/ 1! + 32/ 3! + 52/ 5!+……n\n",
        "Even series: 22/ 2! + 42/ 4! + 62/ 6!+……n**"
      ],
      "metadata": {
        "id": "9suEP-oZn3rM"
      }
    },
    {
      "cell_type": "code",
      "source": [
        "import math\n",
        "n = int(input(\"Enter a number: \"))\n",
        "x = 12\n",
        "y = 22\n",
        "m = 20\n",
        "sum1 ,sum2 = 0,0\n",
        "\n",
        "for i in range(0,n):\n",
        "  a = 1 + (i*2)\n",
        "  b = math.factorial(a)\n",
        "  sum1 += ((x+(m*i))/b)\n",
        "\n",
        "  c =  2 + (i*2)\n",
        "  d = math.factorial(c)\n",
        "  sum2 += ((y + (m*i))/d)\n",
        "\n",
        "print(f\"sum of first {n} odd series : {sum1}\")\n",
        "print(f\"sum of first {n} evn series : {sum2}\")"
      ],
      "metadata": {
        "id": "7CF78pCboA6c",
        "colab": {
          "base_uri": "https://localhost:8080/"
        },
        "outputId": "5d79ff9c-3ad8-4022-a937-ad045e38cb49"
      },
      "execution_count": null,
      "outputs": [
        {
          "output_type": "stream",
          "name": "stdout",
          "text": [
            "Enter a number: 5\n",
            "sum of first 5 odd series : 17.78120590828924\n",
            "sum of first 5 evn series : 12.83817294973545\n"
          ]
        }
      ]
    },
    {
      "cell_type": "markdown",
      "source": [
        "**18. Python Program to Find Factorial of Number Using Recursion**"
      ],
      "metadata": {
        "id": "_B-Hn_4toXDa"
      }
    },
    {
      "cell_type": "code",
      "source": [
        "def FctNum(n):\n",
        "  # n = int(input(\"Enter a number : \"))\n",
        "  fct = 1\n",
        "\n",
        "  for i in range(1,n+1):\n",
        "    fct = fct * i\n",
        "  print(fct)\n",
        "\n",
        "FctNum(6)"
      ],
      "metadata": {
        "colab": {
          "base_uri": "https://localhost:8080/"
        },
        "id": "LmvxPYFPeNJW",
        "outputId": "03a2f3a7-18b2-4967-d98d-afbea3c3e53a"
      },
      "execution_count": 43,
      "outputs": [
        {
          "output_type": "stream",
          "name": "stdout",
          "text": [
            "720\n"
          ]
        }
      ]
    },
    {
      "cell_type": "markdown",
      "source": [
        "**19. Write a Python function that takes a list and returns a new list with unique elements of the first list.**"
      ],
      "metadata": {
        "id": "WyH6p21jsuDL"
      }
    },
    {
      "cell_type": "code",
      "source": [
        "def unique(l):\n",
        "  nl = []\n",
        "  for i in l:\n",
        "    if i not in nl:\n",
        "      nl.append(i)\n",
        "  return nl\n",
        "\n",
        "l = [12,21,54,5432,12,54,21]\n",
        "print(unique(l))\n",
        "\n",
        "print(unique([\"A\",\"B\",\"A\",\"C\",\"D\",\"B\",\"D\",\"C\"]))"
      ],
      "metadata": {
        "colab": {
          "base_uri": "https://localhost:8080/"
        },
        "id": "q0FHgXFQs3si",
        "outputId": "d161922e-b874-4039-ae13-04343b8b6126"
      },
      "execution_count": null,
      "outputs": [
        {
          "output_type": "stream",
          "name": "stdout",
          "text": [
            "[12, 21, 54, 5432]\n",
            "['A', 'B', 'C', 'D']\n"
          ]
        }
      ]
    },
    {
      "cell_type": "code",
      "source": [
        "s = \"google.com\"\n",
        "d = {}\n",
        "for i in s:\n",
        "  c = s.count(i)\n",
        "  d.setdefault(i,c)\n",
        "\n",
        "print(d)"
      ],
      "metadata": {
        "colab": {
          "base_uri": "https://localhost:8080/"
        },
        "id": "Ny5M0RnPe_lI",
        "outputId": "0f95a2c0-339c-4127-8f1d-2173c7474391"
      },
      "execution_count": null,
      "outputs": [
        {
          "output_type": "stream",
          "name": "stdout",
          "text": [
            "{'g': 2, 'o': 3, 'l': 1, 'e': 1, '.': 1, 'c': 1, 'm': 1}\n"
          ]
        }
      ]
    },
    {
      "cell_type": "code",
      "source": [
        "s = \"python asdfghghfdg is best lang for Data \"\n",
        "s1 = s.split()\n",
        "d = []\n",
        "for i in s1:\n",
        "  l = len(i)\n",
        "  d.append(l)\n",
        "print(max(d))"
      ],
      "metadata": {
        "colab": {
          "base_uri": "https://localhost:8080/"
        },
        "id": "UxxXC43JhJM7",
        "outputId": "ffd4197d-9459-4b1c-8cd8-b129cfa0d965"
      },
      "execution_count": null,
      "outputs": [
        {
          "output_type": "stream",
          "name": "stdout",
          "text": [
            "11\n"
          ]
        }
      ]
    },
    {
      "cell_type": "code",
      "source": [
        "s = \"python a is is for is best lang for python Data\"\n",
        "s1 = s.split()\n",
        "d = {}\n",
        "for i in s1:\n",
        "  c = s1.count(i)\n",
        "  d.setdefault(i ,c)\n",
        "\n",
        "print(d)\n",
        "\n"
      ],
      "metadata": {
        "colab": {
          "base_uri": "https://localhost:8080/"
        },
        "id": "-X5W-142inxP",
        "outputId": "5c44fbad-7dac-4cbe-a61a-13f761d31c3f"
      },
      "execution_count": null,
      "outputs": [
        {
          "output_type": "stream",
          "name": "stdout",
          "text": [
            "{'python': 2, 'a': 1, 'is': 3, 'for': 2, 'best': 1, 'lang': 1, 'Data': 1}\n"
          ]
        }
      ]
    },
    {
      "cell_type": "code",
      "source": [
        "s = \"PYthon is BEST for DATa analyTIcs and DaTa SCieNce\"\n",
        "s1 = s.split()\n",
        "\n",
        "for i in s1:\n",
        "  if i[0:2] == i[0:2].upper():\n",
        "    i.upper()\n",
        "    print(i.upper(  ))"
      ],
      "metadata": {
        "colab": {
          "base_uri": "https://localhost:8080/"
        },
        "id": "eHzX69KwkKq8",
        "outputId": "019d60c5-a331-4b76-ca1e-cabc8bc26eaf"
      },
      "execution_count": null,
      "outputs": [
        {
          "output_type": "stream",
          "name": "stdout",
          "text": [
            "PYTHON\n",
            "BEST\n",
            "DATA\n",
            "SCIENCE\n"
          ]
        }
      ]
    },
    {
      "cell_type": "code",
      "source": [
        "s = \"PYthon is the BEST for DATa analyTIcs and DaTa SCieNce\"\n",
        "v = \"AEIOU\"\n",
        "d = {}\n",
        "s = s.upper()\n",
        "\n",
        "for i in s:\n",
        "  for j in v:\n",
        "    if i == j:\n",
        "      c = s.count(i)\n",
        "      d.setdefault(j, c)\n",
        "print(d)\n"
      ],
      "metadata": {
        "colab": {
          "base_uri": "https://localhost:8080/"
        },
        "id": "cUUvxEd9nXFM",
        "outputId": "c4ca33ad-08c1-4927-e69d-c84fe44c3ba6"
      },
      "execution_count": null,
      "outputs": [
        {
          "output_type": "stream",
          "name": "stdout",
          "text": [
            "{'O': 2, 'I': 3, 'E': 4, 'A': 7}\n"
          ]
        }
      ]
    },
    {
      "cell_type": "code",
      "source": [
        "l = [1,2,3,4,5,4,2,6,3]\n",
        "c = []\n",
        "for i in l:\n",
        "  if i not in c:\n",
        "    c.append(i)\n",
        "\n",
        "print(c)"
      ],
      "metadata": {
        "colab": {
          "base_uri": "https://localhost:8080/"
        },
        "id": "_ANDwW1aprCj",
        "outputId": "252f5aa5-9170-4c45-92fc-d0f80c579b1e"
      },
      "execution_count": null,
      "outputs": [
        {
          "output_type": "stream",
          "name": "stdout",
          "text": [
            "[1, 2, 3, 4, 5, 6]\n"
          ]
        }
      ]
    },
    {
      "cell_type": "code",
      "source": [
        "l = [12,32,12,65,65,32,12,12,32,12]\n",
        "c = 0\n",
        "d = {}\n",
        "for i in l:\n",
        "  c = l.count(i)\n",
        "  d.setdefault(i, c)\n",
        "print(d)"
      ],
      "metadata": {
        "colab": {
          "base_uri": "https://localhost:8080/"
        },
        "id": "oqaC4FhOGNGe",
        "outputId": "a64b3f63-4693-4f45-8af2-243bfe43ef07"
      },
      "execution_count": null,
      "outputs": [
        {
          "output_type": "stream",
          "name": "stdout",
          "text": [
            "{12: 5, 32: 3, 65: 2}\n"
          ]
        }
      ]
    },
    {
      "cell_type": "code",
      "source": [
        "l = [10,20,30]\n",
        "for i in l:\n",
        "  print(i,end=\"\")"
      ],
      "metadata": {
        "colab": {
          "base_uri": "https://localhost:8080/"
        },
        "id": "feWoOm82HjgV",
        "outputId": "540da114-5135-482a-a221-e01ff7ff2f4c"
      },
      "execution_count": null,
      "outputs": [
        {
          "output_type": "stream",
          "name": "stdout",
          "text": [
            "102030"
          ]
        }
      ]
    },
    {
      "cell_type": "code",
      "source": [
        "n = int(input())\n",
        "d = {}\n",
        "for i in range(1,n+1):\n",
        "  c = i*i\n",
        "  d.setdefault(i,c)\n",
        "\n",
        "print(d)"
      ],
      "metadata": {
        "colab": {
          "base_uri": "https://localhost:8080/"
        },
        "id": "081y3L-JL3ZI",
        "outputId": "83874d62-63ee-4f54-9310-02fc5a304b23"
      },
      "execution_count": null,
      "outputs": [
        {
          "output_type": "stream",
          "name": "stdout",
          "text": [
            "10\n",
            "{1: 1, 2: 4, 3: 9, 4: 16, 5: 25, 6: 36, 7: 49, 8: 64, 9: 81, 10: 100}\n"
          ]
        }
      ]
    },
    {
      "cell_type": "code",
      "source": [
        "a = {\"a\":100, \"b\":200, \"c\":300}\n",
        "b = {\"b\":100, \"c\":200, \"d\":300, \"f\":500}\n",
        "d = {}\n",
        "\n",
        "for i , j in a.items():\n",
        "  for x, y in b.items():\n",
        "    if i == x:\n",
        "      d[i] = j + y\n",
        "\n",
        "for e , f in a.items():\n",
        "  if e not in d:\n",
        "    d.setdefault(e, f)\n",
        "\n",
        "for g , h in b.items():\n",
        "  if g not in d:\n",
        "    d.setdefault(g, h)\n",
        "\n",
        "print(d)"
      ],
      "metadata": {
        "colab": {
          "base_uri": "https://localhost:8080/"
        },
        "id": "i8zo-QDhM3MZ",
        "outputId": "2c8d5a0c-c019-4244-eedd-464d46c55b01"
      },
      "execution_count": 47,
      "outputs": [
        {
          "output_type": "stream",
          "name": "stdout",
          "text": [
            "{'b': 300, 'c': 500, 'a': 100, 'd': 300, 'f': 500}\n"
          ]
        }
      ]
    },
    {
      "cell_type": "code",
      "source": [
        "l = [{\"v\":\"s001\"},{\"a\":\"s001\"},{\"b\":\"s001\"},{\"c\":\"s001\"},{\"d\":\"s001\"},{\"f\":\"s001\"}]\n",
        "for i in l:\n",
        "  for j , k in i.items():\n",
        "    print(k, end=\",\")"
      ],
      "metadata": {
        "colab": {
          "base_uri": "https://localhost:8080/"
        },
        "id": "gC6jVCxfRDzL",
        "outputId": "9ca21859-43f4-4910-8d73-a2f6f18177bb"
      },
      "execution_count": 48,
      "outputs": [
        {
          "output_type": "stream",
          "name": "stdout",
          "text": [
            "s001,s001,s001,s001,s001,s001,"
          ]
        }
      ]
    }
  ]
}